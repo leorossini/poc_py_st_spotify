{
 "cells": [
  {
   "cell_type": "code",
   "execution_count": 8,
   "id": "80910862",
   "metadata": {},
   "outputs": [],
   "source": [
    "import streamlit as st\n",
    "import pandas as pd\n",
    "import numpy as np\n",
    "from pathlib import Path\n",
    "\n",
    "dirPadrao = Path('.').absolute()\n",
    "dirData = dirPadrao / 'data'\n",
    "csvSpotify = dirData / '01 Spotify.csv'\n",
    "\n"
   ]
  },
  {
   "cell_type": "code",
   "execution_count": 11,
   "id": "e5a93e03",
   "metadata": {},
   "outputs": [],
   "source": [
    "# Carregar os dados\n",
    "df_spotify =  pd.read_csv(csvSpotify)\n",
    "\n"
   ]
  },
  {
   "cell_type": "code",
   "execution_count": 28,
   "id": "19ba3a46",
   "metadata": {},
   "outputs": [
    {
     "data": {
      "application/vnd.microsoft.datawrangler.viewer.v0+json": {
       "columns": [
        {
         "name": "Artist",
         "rawType": "object",
         "type": "string"
        },
        {
         "name": "_songs",
         "rawType": "int64",
         "type": "integer"
        }
       ],
       "conversionMethod": "pd.DataFrame",
       "ref": "9d8be1c7-008b-46af-9db9-6dc4ac188222",
       "rows": [
        [
         "$NOT",
         "10"
        ],
        [
         "$uicideboy$",
         "10"
        ],
        [
         "(G)I-DLE",
         "10"
        ],
        [
         "*NSYNC",
         "10"
        ],
        [
         "070 Shake",
         "10"
        ],
        [
         "112",
         "10"
        ],
        [
         "11:11 Music Group",
         "10"
        ],
        [
         "1nonly",
         "10"
        ],
        [
         "2 Chainz",
         "10"
        ],
        [
         "21 Savage",
         "10"
        ],
        [
         "24kGoldn",
         "10"
        ],
        [
         "2Pac",
         "10"
        ],
        [
         "3 Doors Down",
         "10"
        ],
        [
         "42 Dugg",
         "10"
        ],
        [
         "5 Seconds of Summer",
         "10"
        ],
        [
         "50 Cent",
         "10"
        ],
        [
         "6LACK",
         "10"
        ],
        [
         "6ix9ine",
         "10"
        ],
        [
         "A Boogie Wit da Hoodie",
         "10"
        ],
        [
         "A Day To Remember",
         "10"
        ],
        [
         "A Tribe Called Quest",
         "10"
        ],
        [
         "A$AP Ferg",
         "10"
        ],
        [
         "A$AP Rocky",
         "10"
        ],
        [
         "A.R. Rahman",
         "10"
        ],
        [
         "ABBA",
         "10"
        ],
        [
         "AC/DC",
         "10"
        ],
        [
         "AJR",
         "10"
        ],
        [
         "AP Dhillon",
         "10"
        ],
        [
         "ARASHI",
         "10"
        ],
        [
         "ATB",
         "10"
        ],
        [
         "ATEEZ",
         "10"
        ],
        [
         "AURORA",
         "10"
        ],
        [
         "AYLIVA",
         "10"
        ],
        [
         "Aaliyah",
         "10"
        ],
        [
         "Aaron Smith",
         "10"
        ],
        [
         "Abel Pintos",
         "10"
        ],
        [
         "Abhijeet",
         "10"
        ],
        [
         "Academy of St. Martin in the Fields",
         "10"
        ],
        [
         "Ace of Base",
         "10"
        ],
        [
         "Adam Levine",
         "10"
        ],
        [
         "Adele",
         "10"
        ],
        [
         "Ado",
         "10"
        ],
        [
         "Adolescent's Orquesta",
         "10"
        ],
        [
         "Aerosmith",
         "10"
        ],
        [
         "Afgan",
         "10"
        ],
        [
         "Afrojack",
         "10"
        ],
        [
         "Ahmet Kaya",
         "9"
        ],
        [
         "Aimer",
         "5"
        ],
        [
         "Air Supply",
         "10"
        ],
        [
         "Aitana",
         "10"
        ]
       ],
       "shape": {
        "columns": 1,
        "rows": 2074
       }
      },
      "text/html": [
       "<div>\n",
       "<style scoped>\n",
       "    .dataframe tbody tr th:only-of-type {\n",
       "        vertical-align: middle;\n",
       "    }\n",
       "\n",
       "    .dataframe tbody tr th {\n",
       "        vertical-align: top;\n",
       "    }\n",
       "\n",
       "    .dataframe thead th {\n",
       "        text-align: right;\n",
       "    }\n",
       "</style>\n",
       "<table border=\"1\" class=\"dataframe\">\n",
       "  <thead>\n",
       "    <tr style=\"text-align: right;\">\n",
       "      <th></th>\n",
       "      <th>_songs</th>\n",
       "    </tr>\n",
       "    <tr>\n",
       "      <th>Artist</th>\n",
       "      <th></th>\n",
       "    </tr>\n",
       "  </thead>\n",
       "  <tbody>\n",
       "    <tr>\n",
       "      <th>$NOT</th>\n",
       "      <td>10</td>\n",
       "    </tr>\n",
       "    <tr>\n",
       "      <th>$uicideboy$</th>\n",
       "      <td>10</td>\n",
       "    </tr>\n",
       "    <tr>\n",
       "      <th>(G)I-DLE</th>\n",
       "      <td>10</td>\n",
       "    </tr>\n",
       "    <tr>\n",
       "      <th>*NSYNC</th>\n",
       "      <td>10</td>\n",
       "    </tr>\n",
       "    <tr>\n",
       "      <th>070 Shake</th>\n",
       "      <td>10</td>\n",
       "    </tr>\n",
       "    <tr>\n",
       "      <th>...</th>\n",
       "      <td>...</td>\n",
       "    </tr>\n",
       "    <tr>\n",
       "      <th>will.i.am</th>\n",
       "      <td>10</td>\n",
       "    </tr>\n",
       "    <tr>\n",
       "      <th>Ángela Aguilar</th>\n",
       "      <td>10</td>\n",
       "    </tr>\n",
       "    <tr>\n",
       "      <th>Ñejo</th>\n",
       "      <td>10</td>\n",
       "    </tr>\n",
       "    <tr>\n",
       "      <th>Ñengo Flow</th>\n",
       "      <td>10</td>\n",
       "    </tr>\n",
       "    <tr>\n",
       "      <th>Øneheart</th>\n",
       "      <td>10</td>\n",
       "    </tr>\n",
       "  </tbody>\n",
       "</table>\n",
       "<p>2074 rows × 1 columns</p>\n",
       "</div>"
      ],
      "text/plain": [
       "                _songs\n",
       "Artist                \n",
       "$NOT                10\n",
       "$uicideboy$         10\n",
       "(G)I-DLE            10\n",
       "*NSYNC              10\n",
       "070 Shake           10\n",
       "...                ...\n",
       "will.i.am           10\n",
       "Ángela Aguilar      10\n",
       "Ñejo                10\n",
       "Ñengo Flow          10\n",
       "Øneheart            10\n",
       "\n",
       "[2074 rows x 1 columns]"
      ]
     },
     "execution_count": 28,
     "metadata": {},
     "output_type": "execute_result"
    }
   ],
   "source": [
    "df_artists = pd.DataFrame(df_spotify['Artist'].unique()).sort_values(by=0, ascending=True)\n",
    "df_artists.columns = ['Artist']\n",
    "df_artists.set_index('Artist', inplace=True)\n",
    "df_artists['_songs'] = df_spotify['Artist'].value_counts().sort_index()\n",
    "\n",
    "df_artists"
   ]
  },
  {
   "cell_type": "code",
   "execution_count": 40,
   "id": "032a4f8a",
   "metadata": {},
   "outputs": [
    {
     "data": {
      "text/plain": [
       "array(['Gorillaz', 'Red Hot Chili Peppers', '50 Cent', ..., 'LE SSERAFIM',\n",
       "       'ThxSoMch', 'SICK LEGEND'], shape=(2074,), dtype=object)"
      ]
     },
     "execution_count": 40,
     "metadata": {},
     "output_type": "execute_result"
    }
   ],
   "source": [
    "(df_spotify['Artist'].unique())"
   ]
  },
  {
   "cell_type": "code",
   "execution_count": null,
   "id": "8425ed5d",
   "metadata": {},
   "outputs": [],
   "source": []
  }
 ],
 "metadata": {
  "kernelspec": {
   "display_name": "venv",
   "language": "python",
   "name": "python3"
  },
  "language_info": {
   "codemirror_mode": {
    "name": "ipython",
    "version": 3
   },
   "file_extension": ".py",
   "mimetype": "text/x-python",
   "name": "python",
   "nbconvert_exporter": "python",
   "pygments_lexer": "ipython3",
   "version": "3.13.3"
  }
 },
 "nbformat": 4,
 "nbformat_minor": 5
}
